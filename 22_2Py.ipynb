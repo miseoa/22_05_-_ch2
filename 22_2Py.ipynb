{
  "nbformat": 4,
  "nbformat_minor": 0,
  "metadata": {
    "colab": {
      "provenance": [],
      "authorship_tag": "ABX9TyPw7kaoHlNVejnZFg43/mEV",
      "include_colab_link": true
    },
    "kernelspec": {
      "name": "python3",
      "display_name": "Python 3"
    },
    "language_info": {
      "name": "python"
    }
  },
  "cells": [
    {
      "cell_type": "markdown",
      "metadata": {
        "id": "view-in-github",
        "colab_type": "text"
      },
      "source": [
        "<a href=\"https://colab.research.google.com/github/miseoa/22_05_-_ch2/blob/main/22_2Py.ipynb\" target=\"_parent\"><img src=\"https://colab.research.google.com/assets/colab-badge.svg\" alt=\"Open In Colab\"/></a>"
      ]
    },
    {
      "cell_type": "code",
      "execution_count": null,
      "metadata": {
        "id": "AawW06DXT8Hz"
      },
      "outputs": [],
      "source": [
        "19. 다음 보기의 사칙연산으로 완성하시오. 한줄에 모두, 여러 줄로 나누어서, 보기 좋게 정리. "
      ]
    },
    {
      "cell_type": "code",
      "source": [
        "print(1+2,2-3,3*4,4/4)"
      ],
      "metadata": {
        "colab": {
          "base_uri": "https://localhost:8080/"
        },
        "id": "AEfvOokrUKi6",
        "outputId": "42bccef9-e698-46e5-f533-71a111aa5fcf"
      },
      "execution_count": 1,
      "outputs": [
        {
          "output_type": "stream",
          "name": "stdout",
          "text": [
            "3 -1 12 1.0\n"
          ]
        }
      ]
    },
    {
      "cell_type": "code",
      "source": [
        "20. 아래의 출력 화면을 간결하고 보기 좋게 코딩하시오."
      ],
      "metadata": {
        "id": "nUc-54YJUrIL"
      },
      "execution_count": null,
      "outputs": []
    },
    {
      "cell_type": "code",
      "source": [
        "print(\"*\"*40)\n",
        "print(\"* 제 1조 1항 대한민국은 민주공화국이다. *\")\n",
        "print(\"*\"*40)"
      ],
      "metadata": {
        "colab": {
          "base_uri": "https://localhost:8080/"
        },
        "id": "N78q29tAUxg7",
        "outputId": "15cde936-ad74-422b-aab2-e3dcadfefcd2"
      },
      "execution_count": 2,
      "outputs": [
        {
          "output_type": "stream",
          "name": "stdout",
          "text": [
            "****************************************\n",
            "* 제 1조 1항 대한민국은 민주공화국이다. *\n",
            "****************************************\n"
          ]
        }
      ]
    },
    {
      "cell_type": "code",
      "source": [],
      "metadata": {
        "id": "_4KnCfV1VYVl"
      },
      "execution_count": null,
      "outputs": []
    }
  ]
}