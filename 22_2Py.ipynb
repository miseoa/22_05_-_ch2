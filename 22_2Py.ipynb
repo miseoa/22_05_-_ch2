{
  "nbformat": 4,
  "nbformat_minor": 0,
  "metadata": {
    "colab": {
      "provenance": [],
      "authorship_tag": "ABX9TyOVW9Q6qpZq9zLD7kqFnN+O",
      "include_colab_link": true
    },
    "kernelspec": {
      "name": "python3",
      "display_name": "Python 3"
    },
    "language_info": {
      "name": "python"
    }
  },
  "cells": [
    {
      "cell_type": "markdown",
      "metadata": {
        "id": "view-in-github",
        "colab_type": "text"
      },
      "source": [
        "<a href=\"https://colab.research.google.com/github/miseoa/22_05_-_ch2/blob/main/22_2Py.ipynb\" target=\"_parent\"><img src=\"https://colab.research.google.com/assets/colab-badge.svg\" alt=\"Open In Colab\"/></a>"
      ]
    },
    {
      "cell_type": "code",
      "execution_count": null,
      "metadata": {
        "id": "AawW06DXT8Hz"
      },
      "outputs": [],
      "source": [
        "19. 다음 보기의 사칙연산으로 완성하시오. 한줄에 모두, 여러 줄로 나누어서, 보기 좋게 정리. "
      ]
    },
    {
      "cell_type": "code",
      "source": [
        "print(1+2,2-3,3*4,4/4)"
      ],
      "metadata": {
        "colab": {
          "base_uri": "https://localhost:8080/"
        },
        "id": "AEfvOokrUKi6",
        "outputId": "42bccef9-e698-46e5-f533-71a111aa5fcf"
      },
      "execution_count": 1,
      "outputs": [
        {
          "output_type": "stream",
          "name": "stdout",
          "text": [
            "3 -1 12 1.0\n"
          ]
        }
      ]
    },
    {
      "cell_type": "code",
      "source": [
        "20. 아래의 출력 화면을 간결하고 보기 좋게 코딩하시오."
      ],
      "metadata": {
        "id": "nUc-54YJUrIL"
      },
      "execution_count": null,
      "outputs": []
    },
    {
      "cell_type": "code",
      "source": [
        "print(\"*\"*40)\n",
        "print(\"* 제 1조 1항 대한민국은 민주공화국이다. *\")\n",
        "print(\"*\"*40)"
      ],
      "metadata": {
        "colab": {
          "base_uri": "https://localhost:8080/"
        },
        "id": "N78q29tAUxg7",
        "outputId": "15cde936-ad74-422b-aab2-e3dcadfefcd2"
      },
      "execution_count": 2,
      "outputs": [
        {
          "output_type": "stream",
          "name": "stdout",
          "text": [
            "****************************************\n",
            "* 제 1조 1항 대한민국은 민주공화국이다. *\n",
            "****************************************\n"
          ]
        }
      ]
    },
    {
      "cell_type": "code",
      "source": [
        "21. 사용자에게 성명, 나이, 주소를 입력 받아서 출력하라."
      ],
      "metadata": {
        "id": "_4KnCfV1VYVl"
      },
      "execution_count": null,
      "outputs": []
    },
    {
      "cell_type": "code",
      "source": [
        "name=input(\"이름을 입력하시오.\")\n",
        "age=input(\"나이를 입력하시오.\")\n",
        "addr=input(\"주소를 입력하시오.\")\n",
        "print(name)\n",
        "print(age)\n",
        "print(addr)"
      ],
      "metadata": {
        "colab": {
          "base_uri": "https://localhost:8080/"
        },
        "id": "5ZxXDLuEWKSP",
        "outputId": "f67cc7ef-c815-4237-ce63-f2b6ca20ef9a"
      },
      "execution_count": 3,
      "outputs": [
        {
          "output_type": "stream",
          "name": "stdout",
          "text": [
            "이름을 입력하시오.민서\n",
            "나이를 입력하시오.20\n",
            "주소를 입력하시오.익산\n",
            "민서\n",
            "20\n",
            "익산\n"
          ]
        }
      ]
    },
    {
      "cell_type": "code",
      "source": [
        "29번"
      ],
      "metadata": {
        "id": "gS2_bK2EZoU9"
      },
      "execution_count": null,
      "outputs": []
    },
    {
      "cell_type": "code",
      "source": [
        "n1=input(\"첫 번째 정수를 입력하시오.\")\n",
        "n2=input(\"두 번째 정수를 입력하시오.\")\n",
        "print(\"두 합의 값은\",n1+n2,\"입니다.\")"
      ],
      "metadata": {
        "colab": {
          "base_uri": "https://localhost:8080/"
        },
        "id": "F7bHq7iRZrhc",
        "outputId": "20e0d2d9-94e0-4ed2-9d38-8b00d04535eb"
      },
      "execution_count": 8,
      "outputs": [
        {
          "output_type": "stream",
          "name": "stdout",
          "text": [
            "첫 번째 정수를 입력하시오.100\n",
            "두 번째 정수를 입력하시오.100\n",
            "두 합의 값은 100100 입니다.\n"
          ]
        }
      ]
    }
  ]
}