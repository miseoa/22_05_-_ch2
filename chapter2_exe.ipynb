{
  "nbformat": 4,
  "nbformat_minor": 0,
  "metadata": {
    "colab": {
      "provenance": [],
      "authorship_tag": "ABX9TyOdpmidneOL5N9b1ubTOQCg",
      "include_colab_link": true
    },
    "kernelspec": {
      "name": "python3",
      "display_name": "Python 3"
    },
    "language_info": {
      "name": "python"
    }
  },
  "cells": [
    {
      "cell_type": "markdown",
      "metadata": {
        "id": "view-in-github",
        "colab_type": "text"
      },
      "source": [
        "<a href=\"https://colab.research.google.com/github/miseoa/22_05_-_ch2/blob/main/chapter2_exe.ipynb\" target=\"_parent\"><img src=\"https://colab.research.google.com/assets/colab-badge.svg\" alt=\"Open In Colab\"/></a>"
      ]
    },
    {
      "cell_type": "code",
      "execution_count": null,
      "metadata": {
        "id": "hjcUEQE8PltH"
      },
      "outputs": [],
      "source": [
        "(1)사용자한테 이름과 나이를 입력하게 한다. 사용자가 100살이 되는 연도를 화면에 출력하는 프로그램을 작성해라.\n"
      ]
    },
    {
      "cell_type": "code",
      "source": [
        "name=input(\"이름을 입력하시요\") #변수 name에 input함수를 사용하여 사용자에게 이름을 입력받는 부분\n",
        "age=int(input(\"나이를 입력하시오\")) #변수 age에 int(정수형선언)함수를 사용하여 사용자에게 나이를 입력받는 부분\n",
        "year=2022-age+100 #변수 year에 현재 연도 - 변수 (age)+100\n",
        "print(name+\"씨는\"+str(year)+\"년에 100살입니다.\")"
      ],
      "metadata": {
        "colab": {
          "base_uri": "https://localhost:8080/"
        },
        "id": "RKYJR27XP09u",
        "outputId": "7ee4ab1e-9f06-4cce-c050-36541779e419"
      },
      "execution_count": 3,
      "outputs": [
        {
          "output_type": "stream",
          "name": "stdout",
          "text": [
            "이름을 입력하시요민서\n",
            "나이를 입력하시오20\n",
            "민서씨는2102년에 100살입니다.\n"
          ]
        }
      ]
    },
    {
      "cell_type": "markdown",
      "source": [],
      "metadata": {
        "id": "bamlkRm3VXtU"
      }
    },
    {
      "cell_type": "code",
      "source": [
        "(2) 사용자로부터 3개의 값을 받아서 평균을 내어보아라. 입력 예제값:10, 20, 30"
      ],
      "metadata": {
        "id": "j0bg-e9qVb0j"
      },
      "execution_count": null,
      "outputs": []
    },
    {
      "cell_type": "code",
      "source": [
        "n1=int(input(\"첫 번째 숫자를 입력하시오.\"))\n",
        "n2=int(input(\"두 번째 숫자를 입력하시오.\"))\n",
        "n3=int(input(\"세 번째 숫자를 입력하시오.\"))\n",
        "aver=(n1+n2+n3)/3\n",
        "sum=n1+n2+n3\n",
        "print(n1,n2,n3,\"합은\",sum,\"이고\", \"의 평균은\", aver,\"입니다.\")"
      ],
      "metadata": {
        "colab": {
          "base_uri": "https://localhost:8080/"
        },
        "id": "F-9WLmYpTT74",
        "outputId": "cf0e1d1e-d2cb-4a1d-de5d-2ba6f9d3b69a"
      },
      "execution_count": 9,
      "outputs": [
        {
          "output_type": "stream",
          "name": "stdout",
          "text": [
            "첫 번째 숫자를 입력하시오.10\n",
            "두 번째 숫자를 입력하시오.20\n",
            "세 번째 숫자를 입력하시오.30\n",
            "10 20 30 합은 60 이고 의 평균은 20.0 입니다.\n"
          ]
        }
      ]
    },
    {
      "cell_type": "code",
      "source": [
        "(3)사용자로부터 반지름을 입력받아서 면적을 구하시오."
      ],
      "metadata": {
        "id": "IcyETQpGVrQW"
      },
      "execution_count": null,
      "outputs": []
    },
    {
      "cell_type": "code",
      "source": [
        "radius=int(input(\"반지름을 입력하시오\"))\n",
        "area=3.141592*radius*radius\n",
        "print(\"반지름이\", radius, \"인 원의 넓이는=\", area,\"입니다.\" )"
      ],
      "metadata": {
        "colab": {
          "base_uri": "https://localhost:8080/"
        },
        "id": "BhP7GOoJV_nJ",
        "outputId": "ad5c3909-4c94-44fe-e3d5-4cf7be4f1b2d"
      },
      "execution_count": 15,
      "outputs": [
        {
          "output_type": "stream",
          "name": "stdout",
          "text": [
            "반지름을 입력하시오10\n",
            "반지름이 10 인 원의 넓이는= 314.1592 입니다.\n"
          ]
        }
      ]
    },
    {
      "cell_type": "code",
      "source": [],
      "metadata": {
        "id": "Xxbvafk2XVuH"
      },
      "execution_count": null,
      "outputs": []
    }
  ]
}