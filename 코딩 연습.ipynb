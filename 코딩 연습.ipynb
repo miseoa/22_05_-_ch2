{
  "nbformat": 4,
  "nbformat_minor": 0,
  "metadata": {
    "colab": {
      "provenance": [],
      "authorship_tag": "ABX9TyPxX/YFRGGCXk/Jd+zE37D8",
      "include_colab_link": true
    },
    "kernelspec": {
      "name": "python3",
      "display_name": "Python 3"
    },
    "language_info": {
      "name": "python"
    }
  },
  "cells": [
    {
      "cell_type": "markdown",
      "metadata": {
        "id": "view-in-github",
        "colab_type": "text"
      },
      "source": [
        "<a href=\"https://colab.research.google.com/github/miseoa/22_05_-_ch2/blob/main/%EC%BD%94%EB%94%A9%20%EC%97%B0%EC%8A%B5.ipynb\" target=\"_parent\"><img src=\"https://colab.research.google.com/assets/colab-badge.svg\" alt=\"Open In Colab\"/></a>"
      ]
    },
    {
      "cell_type": "code",
      "execution_count": null,
      "metadata": {
        "id": "V-ZqmHMOLEwK"
      },
      "outputs": [],
      "source": [
        "23번"
      ]
    },
    {
      "cell_type": "code",
      "source": [
        "print(\"Welcome Python, 저는 파이썬을 좋아합니다.\")"
      ],
      "metadata": {
        "colab": {
          "base_uri": "https://localhost:8080/"
        },
        "id": "TfoJNsfoLHqI",
        "outputId": "2d4d1547-e659-4027-d2e6-975d27adfe0c"
      },
      "execution_count": 1,
      "outputs": [
        {
          "output_type": "stream",
          "name": "stdout",
          "text": [
            "Welcome Python, 저는 파이썬을 좋아합니다.\n"
          ]
        }
      ]
    },
    {
      "cell_type": "code",
      "source": [
        "24번"
      ],
      "metadata": {
        "id": "ERzrKMDuLWxq"
      },
      "execution_count": null,
      "outputs": []
    },
    {
      "cell_type": "code",
      "source": [
        "print(\"9*9는 81입니다.\")"
      ],
      "metadata": {
        "colab": {
          "base_uri": "https://localhost:8080/"
        },
        "id": "2R_gSE2rLYYi",
        "outputId": "3fe85ae3-1d67-45b9-c202-dbed95d9b087"
      },
      "execution_count": 2,
      "outputs": [
        {
          "output_type": "stream",
          "name": "stdout",
          "text": [
            "9*9는 81입니다.\n"
          ]
        }
      ]
    },
    {
      "cell_type": "code",
      "source": [
        "25"
      ],
      "metadata": {
        "id": "96-uC-vULsSv"
      },
      "execution_count": null,
      "outputs": []
    },
    {
      "cell_type": "code",
      "source": [
        "x=9\n",
        "y=6\n",
        "print(x+y)"
      ],
      "metadata": {
        "colab": {
          "base_uri": "https://localhost:8080/"
        },
        "id": "hGNR4IthLtXp",
        "outputId": "b6b2569a-6bd9-439a-be9d-53926326f2cd"
      },
      "execution_count": 3,
      "outputs": [
        {
          "output_type": "stream",
          "name": "stdout",
          "text": [
            "15\n"
          ]
        }
      ]
    },
    {
      "cell_type": "code",
      "source": [
        "27"
      ],
      "metadata": {
        "id": "TiUN72waMGw0"
      },
      "execution_count": null,
      "outputs": []
    },
    {
      "cell_type": "code",
      "source": [
        "x='7'\n",
        "y='4'\n",
        "print(x+y)"
      ],
      "metadata": {
        "colab": {
          "base_uri": "https://localhost:8080/"
        },
        "id": "GeIzD3fKMIM0",
        "outputId": "52f9cb4d-2457-407b-a105-f6391f423f6f"
      },
      "execution_count": 4,
      "outputs": [
        {
          "output_type": "stream",
          "name": "stdout",
          "text": [
            "74\n"
          ]
        }
      ]
    },
    {
      "cell_type": "code",
      "source": [
        "33번"
      ],
      "metadata": {
        "id": "zGnpZpY5MTlb"
      },
      "execution_count": null,
      "outputs": []
    },
    {
      "cell_type": "code",
      "source": [
        "for i in range(10):\n",
        "    print(\"방문을 환영합니다.\")"
      ],
      "metadata": {
        "colab": {
          "base_uri": "https://localhost:8080/"
        },
        "id": "vwUYfDTZMVz0",
        "outputId": "a877fd35-4829-4828-8481-e57fa09d757e"
      },
      "execution_count": 6,
      "outputs": [
        {
          "output_type": "stream",
          "name": "stdout",
          "text": [
            "방문을 환영합니다.\n",
            "방문을 환영합니다.\n",
            "방문을 환영합니다.\n",
            "방문을 환영합니다.\n",
            "방문을 환영합니다.\n",
            "방문을 환영합니다.\n",
            "방문을 환영합니다.\n",
            "방문을 환영합니다.\n",
            "방문을 환영합니다.\n",
            "방문을 환영합니다.\n"
          ]
        }
      ]
    },
    {
      "cell_type": "code",
      "source": [
        "29번"
      ],
      "metadata": {
        "id": "Ns4GSH-YM9D6"
      },
      "execution_count": null,
      "outputs": []
    },
    {
      "cell_type": "code",
      "source": [
        "n1=int(input(\"첫 번째 정수를 입력하시오.\"))\n",
        "n2=int(input(\"두 번째 정수를 입력하시오.\"))\n",
        "print(\"두 합의 값은\", n1+n2,\"입니다.\")"
      ],
      "metadata": {
        "colab": {
          "base_uri": "https://localhost:8080/"
        },
        "id": "3FNB0I5eM_B3",
        "outputId": "747548d4-ec7e-4020-8dda-da2132dd05e3"
      },
      "execution_count": 10,
      "outputs": [
        {
          "output_type": "stream",
          "name": "stdout",
          "text": [
            "첫 번째 정수를 입력하시오.100\n",
            "두 번째 정수를 입력하시오.100\n",
            "두 합의 값은 200 입니다.\n"
          ]
        }
      ]
    },
    {
      "cell_type": "code",
      "source": [
        "25번"
      ],
      "metadata": {
        "id": "PmR4vzE9OLMe"
      },
      "execution_count": null,
      "outputs": []
    },
    {
      "cell_type": "code",
      "source": [
        "x=100\n",
        "y=200\n",
        "z=50\n",
        "sum=x+y-z\n",
        "print(x,y,z, \"sum의 값은\",sum,\"입니다.\")"
      ],
      "metadata": {
        "colab": {
          "base_uri": "https://localhost:8080/"
        },
        "id": "EUsaMMnBOM3z",
        "outputId": "42923015-a576-4ad6-e855-b23d23aab1bc"
      },
      "execution_count": 9,
      "outputs": [
        {
          "output_type": "stream",
          "name": "stdout",
          "text": [
            "100 200 50 sum의 값은 250 입니다.\n"
          ]
        }
      ]
    }
  ]
}